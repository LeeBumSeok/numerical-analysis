{
 "cells": [
  {
   "cell_type": "code",
   "execution_count": 1,
   "metadata": {},
   "outputs": [
    {
     "name": "stderr",
     "output_type": "stream",
     "text": [
      "Using TensorFlow backend.\n"
     ]
    }
   ],
   "source": [
    "from keras.datasets import mnist\n",
    "import tensorflow as tf\n",
    "\n",
    "(x_train, y_train), (x_test, y_test) = mnist.load_data()"
   ]
  },
  {
   "cell_type": "code",
   "execution_count": 2,
   "metadata": {},
   "outputs": [
    {
     "data": {
      "text/plain": [
       "<function matplotlib.pyplot.show(*args, **kw)>"
      ]
     },
     "execution_count": 2,
     "metadata": {},
     "output_type": "execute_result"
    },
    {
     "data": {
      "image/png": "[encoded data removed]",
      "text/plain": [
       "<Figure size 864x230.4 with 3 Axes>"
      ]
     },
     "metadata": {
      "needs_background": "light"
     },
     "output_type": "display_data"
    }
   ],
   "source": [
    "import numpy as np\n",
    "import matplotlib.pyplot as plt\n",
    "%matplotlib inline\n",
    "plt.figure(1, figsize=(12, 3.2))\n",
    "plt.subplots_adjust(wspace=0.5)\n",
    "plt.gray()\n",
    "for id in range(3):\n",
    "    plt.subplot(1, 3, id + 1)\n",
    "    img = x_train[id, :, :]\n",
    "    plt.pcolor(255 - img)\n",
    "    plt.text(24.5, 26, \"%d\" %y_train[id],\n",
    "            color='cornflowerblue', fontsize=18)\n",
    "    plt.xlim(0, 27)\n",
    "    plt.ylim(27, 0)\n",
    "    plt.grid('on', color='white')\n",
    "plt.show"
   ]
  },
  {
   "cell_type": "code",
   "execution_count": 3,
   "metadata": {},
   "outputs": [],
   "source": [
    "from keras.utils import np_utils\n",
    "\n",
    "x_train = x_train.reshape(60000, 784) # (A)\n",
    "x_train = x_train.astype('float32') # (B)\n",
    "x_train = x_train / 255 # (C)\n",
    "num_classes = 10\n",
    "y_train = np_utils.to_categorical(y_train, num_classes) # (D)\n",
    "\n",
    "x_test = x_test.reshape(10000, 784) # (A)\n",
    "x_test = x_test.astype('float32') # (B)\n",
    "x_test = x_test / 255 # (C)\n",
    "y_test = np_utils.to_categorical(y_test, num_classes) "
   ]
  },
  {
   "cell_type": "code",
   "execution_count": 4,
   "metadata": {},
   "outputs": [],
   "source": [
    "np.random.seed(1)\n",
    "from keras.models import Sequential\n",
    "from keras.layers import Dense, Activation\n",
    "from keras.optimizers import Adam\n",
    "\n",
    "model = Sequential() # (A)\n",
    "model.add(Dense(16, input_dim=784, activation='sigmoid')) # (B)\n",
    "model.add(Dense(10, activation='softmax')) # (C)\n",
    "model.compile(loss='categorical_crossentropy', optimizer=Adam(), metrics=['accuracy']) # (D)"
   ]
  },
  {
   "cell_type": "code",
   "execution_count": 5,
   "metadata": {},
   "outputs": [
    {
     "name": "stdout",
     "output_type": "stream",
     "text": [
      "Train on 60000 samples, validate on 10000 samples\n",
      "Epoch 1/10\n",
      "60000/60000 [==============================] - 1s 19us/step - loss: 2.0609 - accuracy: 0.2891 - val_loss: 1.7852 - val_accuracy: 0.5012\n",
      "Epoch 2/10\n",
      "60000/60000 [==============================] - 1s 14us/step - loss: 1.6047 - accuracy: 0.6524 - val_loss: 1.4363 - val_accuracy: 0.7675\n",
      "Epoch 3/10\n",
      "60000/60000 [==============================] - 1s 15us/step - loss: 1.3184 - accuracy: 0.7885 - val_loss: 1.1973 - val_accuracy: 0.8202\n",
      "Epoch 4/10\n",
      "60000/60000 [==============================] - 1s 15us/step - loss: 1.1122 - accuracy: 0.8249 - val_loss: 1.0181 - val_accuracy: 0.8445\n",
      "Epoch 5/10\n",
      "60000/60000 [==============================] - 1s 15us/step - loss: 0.9535 - accuracy: 0.8438 - val_loss: 0.8786 - val_accuracy: 0.8589\n",
      "Epoch 6/10\n",
      "60000/60000 [==============================] - 1s 14us/step - loss: 0.8300 - accuracy: 0.8590 - val_loss: 0.7711 - val_accuracy: 0.8710\n",
      "Epoch 7/10\n",
      "60000/60000 [==============================] - 1s 15us/step - loss: 0.7350 - accuracy: 0.8691 - val_loss: 0.6876 - val_accuracy: 0.8800\n",
      "Epoch 8/10\n",
      "60000/60000 [==============================] - 1s 14us/step - loss: 0.6607 - accuracy: 0.8776 - val_loss: 0.6228 - val_accuracy: 0.8866\n",
      "Epoch 9/10\n",
      "60000/60000 [==============================] - 1s 15us/step - loss: 0.6017 - accuracy: 0.8835 - val_loss: 0.5706 - val_accuracy: 0.8918\n",
      "Epoch 10/10\n",
      "60000/60000 [==============================] - 1s 13us/step - loss: 0.5539 - accuracy: 0.8892 - val_loss: 0.5282 - val_accuracy: 0.8951\n",
      "Test loss: 0.5281667461395264\n",
      "Test accuracy: 0.8950999975204468\n",
      "Computation time:9.889 sec\n"
     ]
    }
   ],
   "source": [
    "import time\n",
    "\n",
    "startTime = time.time()\n",
    "history = model.fit(x_train, y_train, epochs=10, batch_size=1000, verbose=1, validation_data=(x_test, y_test)) # (A)\n",
    "score = model.evaluate(x_test, y_test, verbose=0)\n",
    "print('Test loss:', score[0])\n",
    "print('Test accuracy:', score[1])\n",
    "print(\"Computation time:{0:.3f} sec\".format(time.time() - startTime))"
   ]
  },
  {
   "cell_type": "code",
   "execution_count": 6,
   "metadata": {},
   "outputs": [
    {
     "data": {
      "image/png": "[encoded data removed]",
      "text/plain": [
       "<Figure size 720x288 with 2 Axes>"
      ]
     },
     "metadata": {
      "needs_background": "light"
     },
     "output_type": "display_data"
    }
   ],
   "source": [
    "import numpy as np\n",
    "import matplotlib.pyplot as plt\n",
    "%matplotlib inline\n",
    "\n",
    "plt.figure(1, figsize=(10, 4))\n",
    "plt.subplots_adjust(wspace=0.5)\n",
    "\n",
    "plt.subplot(1, 2, 1)\n",
    "plt.plot(history.history['loss'], label='training', color='black')\n",
    "plt.plot(history.history['val_loss'], label='test', color='cornflowerblue')\n",
    "plt.ylim(0, 10)\n",
    "plt.legend()\n",
    "plt.grid()\n",
    "plt.xlabel('epoch')\n",
    "plt.ylabel('loss')\n",
    "\n",
    "plt.subplot(1, 2, 2)\n",
    "plt.plot(history.history['accuracy'], label='training', color='black')\n",
    "plt.plot(history.history['val_accuracy'], label='test', color='cornflowerblue')\n",
    "plt.ylim(0, 1)\n",
    "plt.legend()\n",
    "plt.grid()\n",
    "plt.xlabel('epoch')\n",
    "plt.ylabel('acc')\n",
    "plt.show()"
   ]
  },
  {
   "cell_type": "code",
   "execution_count": 1,
   "metadata": {},
   "outputs": [
    {
     "ename": "NameError",
     "evalue": "name 'model' is not defined",
     "output_type": "error",
     "traceback": [
      "\u001b[0;31m---------------------------------------------------------------------------\u001b[0m",
      "\u001b[0;31mNameError\u001b[0m                                 Traceback (most recent call last)",
      "\u001b[0;32m<ipython-input-1-ff40be010d31>\u001b[0m in \u001b[0;36m<module>\u001b[0;34m\u001b[0m\n\u001b[1;32m     19\u001b[0m             \u001b[0mplt\u001b[0m\u001b[0;34m.\u001b[0m\u001b[0myticks\u001b[0m\u001b[0;34m(\u001b[0m\u001b[0;34m[\u001b[0m\u001b[0;34m]\u001b[0m\u001b[0;34m,\u001b[0m \u001b[0;34m\"\"\u001b[0m\u001b[0;34m)\u001b[0m\u001b[0;34m\u001b[0m\u001b[0;34m\u001b[0m\u001b[0m\n\u001b[1;32m     20\u001b[0m \u001b[0;34m\u001b[0m\u001b[0m\n\u001b[0;32m---> 21\u001b[0;31m \u001b[0mshow_prediction\u001b[0m\u001b[0;34m(\u001b[0m\u001b[0;34m)\u001b[0m\u001b[0;34m\u001b[0m\u001b[0;34m\u001b[0m\u001b[0m\n\u001b[0m\u001b[1;32m     22\u001b[0m \u001b[0mplt\u001b[0m\u001b[0;34m.\u001b[0m\u001b[0mshow\u001b[0m\u001b[0;34m(\u001b[0m\u001b[0;34m)\u001b[0m\u001b[0;34m\u001b[0m\u001b[0;34m\u001b[0m\u001b[0m\n\u001b[1;32m     23\u001b[0m \u001b[0;31m# 뒤집어져서 나옴\u001b[0m\u001b[0;34m\u001b[0m\u001b[0;34m\u001b[0m\u001b[0;34m\u001b[0m\u001b[0m\n",
      "\u001b[0;32m<ipython-input-1-ff40be010d31>\u001b[0m in \u001b[0;36mshow_prediction\u001b[0;34m()\u001b[0m\n\u001b[1;32m      1\u001b[0m \u001b[0;32mdef\u001b[0m \u001b[0mshow_prediction\u001b[0m\u001b[0;34m(\u001b[0m\u001b[0;34m)\u001b[0m\u001b[0;34m:\u001b[0m\u001b[0;34m\u001b[0m\u001b[0;34m\u001b[0m\u001b[0m\n\u001b[1;32m      2\u001b[0m     \u001b[0mn_show\u001b[0m \u001b[0;34m=\u001b[0m \u001b[0;36m96\u001b[0m\u001b[0;34m\u001b[0m\u001b[0;34m\u001b[0m\u001b[0m\n\u001b[0;32m----> 3\u001b[0;31m     \u001b[0my\u001b[0m \u001b[0;34m=\u001b[0m \u001b[0mmodel\u001b[0m\u001b[0;34m.\u001b[0m\u001b[0mpredict\u001b[0m\u001b[0;34m(\u001b[0m\u001b[0mx_test\u001b[0m\u001b[0;34m)\u001b[0m \u001b[0;31m# (A)\u001b[0m\u001b[0;34m\u001b[0m\u001b[0;34m\u001b[0m\u001b[0m\n\u001b[0m\u001b[1;32m      4\u001b[0m     \u001b[0mplt\u001b[0m\u001b[0;34m.\u001b[0m\u001b[0mfigure\u001b[0m\u001b[0;34m(\u001b[0m\u001b[0;36m2\u001b[0m\u001b[0;34m,\u001b[0m \u001b[0mfigsize\u001b[0m\u001b[0;34m=\u001b[0m\u001b[0;34m(\u001b[0m\u001b[0;36m12\u001b[0m\u001b[0;34m,\u001b[0m \u001b[0;36m8\u001b[0m\u001b[0;34m)\u001b[0m\u001b[0;34m)\u001b[0m\u001b[0;34m\u001b[0m\u001b[0;34m\u001b[0m\u001b[0m\n\u001b[1;32m      5\u001b[0m     \u001b[0mplt\u001b[0m\u001b[0;34m.\u001b[0m\u001b[0mgray\u001b[0m\u001b[0;34m(\u001b[0m\u001b[0;34m)\u001b[0m\u001b[0;34m\u001b[0m\u001b[0;34m\u001b[0m\u001b[0m\n",
      "\u001b[0;31mNameError\u001b[0m: name 'model' is not defined"
     ]
    }
   ],
   "source": [
    "def show_prediction():\n",
    "    n_show = 96\n",
    "    y = model.predict(x_test) # (A)\n",
    "    plt.figure(2, figsize=(12, 8))\n",
    "    plt.gray()\n",
    "    for i in range(n_show):\n",
    "        plt.subplot(8, 12, i + 1)\n",
    "        x = x_test[i, :]\n",
    "        x = x.reshape(28, 28)\n",
    "        plt.pcolor(1 - x)\n",
    "        wk = y[i, :]\n",
    "        prediction = np.argmax(wk)\n",
    "        plt.text(22, 25.5, \"%d\" % prediction, fontsize=12)\n",
    "        if prediction != np.argmax(y_test[i, :]):\n",
    "            plt.plot([0, 27], [1, 1], color='cornflowerblue', linewidth=5)\n",
    "            plt.xlim(0, 27)\n",
    "            plt.ylim(27, 0)\n",
    "            plt.xticks([], \"\")\n",
    "            plt.yticks([], \"\")\n",
    "\n",
    "show_prediction()\n",
    "plt.show()\n",
    "# 뒤집어져서 나옴"
   ]
  },
  {
   "cell_type": "code",
   "execution_count": 8,
   "metadata": {},
   "outputs": [
    {
     "name": "stdout",
     "output_type": "stream",
     "text": [
      "Train on 60000 samples, validate on 10000 samples\n",
      "Epoch 1/10\n",
      "60000/60000 [==============================] - 1s 21us/step - loss: 1.5009 - accuracy: 0.5621 - val_loss: 0.8035 - val_accuracy: 0.8289\n",
      "Epoch 2/10\n",
      "60000/60000 [==============================] - 1s 15us/step - loss: 0.6134 - accuracy: 0.8561 - val_loss: 0.4680 - val_accuracy: 0.8845\n",
      "Epoch 3/10\n",
      "60000/60000 [==============================] - 1s 16us/step - loss: 0.4309 - accuracy: 0.8877 - val_loss: 0.3759 - val_accuracy: 0.9029\n",
      "Epoch 4/10\n",
      "60000/60000 [==============================] - 1s 15us/step - loss: 0.3644 - accuracy: 0.9006 - val_loss: 0.3330 - val_accuracy: 0.9105\n",
      "Epoch 5/10\n",
      "60000/60000 [==============================] - 1s 15us/step - loss: 0.3292 - accuracy: 0.9083 - val_loss: 0.3069 - val_accuracy: 0.9157\n",
      "Epoch 6/10\n",
      "60000/60000 [==============================] - 1s 16us/step - loss: 0.3061 - accuracy: 0.9143 - val_loss: 0.2903 - val_accuracy: 0.9188\n",
      "Epoch 7/10\n",
      "60000/60000 [==============================] - 1s 16us/step - loss: 0.2898 - accuracy: 0.9188 - val_loss: 0.2772 - val_accuracy: 0.9209\n",
      "Epoch 8/10\n",
      "60000/60000 [==============================] - 1s 16us/step - loss: 0.2772 - accuracy: 0.9226 - val_loss: 0.2677 - val_accuracy: 0.9244\n",
      "Epoch 9/10\n",
      "60000/60000 [==============================] - 1s 16us/step - loss: 0.2672 - accuracy: 0.9249 - val_loss: 0.2592 - val_accuracy: 0.9261\n",
      "Epoch 10/10\n",
      "60000/60000 [==============================] - 1s 18us/step - loss: 0.2585 - accuracy: 0.9275 - val_loss: 0.2523 - val_accuracy: 0.9287\n",
      "Test loss: 0.2522840235799551\n",
      "Test accuracy: 0.9286999702453613\n",
      "Computation time:11.114 sec\n"
     ]
    }
   ],
   "source": [
    "np.random.seed(1)\n",
    "from keras.models import Sequential\n",
    "from keras.layers import Dense, Activation\n",
    "from keras.optimizers import Adam\n",
    "\n",
    "model = Sequential()\n",
    "model.add(Dense(16, input_dim=784, activation='relu')) # (A)\n",
    "model.add(Dense(10, activation='softmax'))\n",
    "model.compile(loss='categorical_crossentropy', optimizer=Adam(), metrics=['accuracy'])\n",
    "\n",
    "startTime = time.time()\n",
    "history = model.fit(x_train, y_train, epochs=10, batch_size=1000, verbose=1, validation_data=(x_test, y_test)) # (A)\n",
    "score = model.evaluate(x_test, y_test, verbose=0)\n",
    "print('Test loss:', score[0])\n",
    "print('Test accuracy:', score[1])\n",
    "print(\"Computation time:{0:.3f} sec\".format(time.time() - startTime))"
   ]
  },
  {
   "cell_type": "code",
   "execution_count": 9,
   "metadata": {},
   "outputs": [
    {
     "data": {
      "image/png": "[encoded data removed]",
      "text/plain": [
       "<Figure size 864x576 with 96 Axes>"
      ]
     },
     "metadata": {
      "needs_background": "light"
     },
     "output_type": "display_data"
    }
   ],
   "source": [
    "show_prediction()\n",
    "plt.show()"
   ]
  },
  {
   "cell_type": "code",
   "execution_count": 10,
   "metadata": {},
   "outputs": [
    {
     "data": {
      "image/png": "[encoded data removed]",
      "text/plain": [
       "<Figure size 864x216 with 16 Axes>"
      ]
     },
     "metadata": {},
     "output_type": "display_data"
    }
   ],
   "source": [
    "w = model.layers[0].get_weights()[0]\n",
    "plt.figure(1, figsize=(12, 3))\n",
    "plt.gray()\n",
    "plt.subplots_adjust(wspace=0.35, hspace=0.5)\n",
    "for i in range(16):\n",
    "    plt.subplot(2, 8, i + 1)\n",
    "    w1 = w[:, i]\n",
    "    w1 = w1.reshape(28, 28)\n",
    "    plt.pcolor(-w1)\n",
    "    plt.xlim(0, 27)\n",
    "    plt.ylim(27, 0)\n",
    "    plt.xticks([], \"\")\n",
    "    plt.yticks([], \"\")\n",
    "    plt.title(\"%d\" % i)\n",
    "plt.show()"
   ]
  },
  {
   "cell_type": "code",
   "execution_count": 11,
   "metadata": {},
   "outputs": [
    {
     "name": "stdout",
     "output_type": "stream",
     "text": [
      "Once deleted, variables cannot be recovered. Proceed (y/[n])? y\n"
     ]
    }
   ],
   "source": [
    "%reset"
   ]
  },
  {
   "cell_type": "code",
   "execution_count": 12,
   "metadata": {},
   "outputs": [],
   "source": [
    "import numpy as np\n",
    "from keras.datasets import mnist\n",
    "from keras.utils import np_utils\n",
    "(x_train, y_train), (x_test, y_test) = mnist.load_data()\n",
    "x_train = x_train.reshape(60000, 28, 28, 1)\n",
    "x_test = x_test.reshape(10000, 28, 28, 1)\n",
    "x_train = x_train.astype('float32')\n",
    "x_test = x_test.astype('float32')\n",
    "x_train /= 255\n",
    "x_test /= 255\n",
    "num_classes = 10\n",
    "y_train = np_utils.to_categorical(y_train, num_classes)\n",
    "y_test = np_utils.to_categorical(y_test, num_classes)"
   ]
  },
  {
   "cell_type": "code",
   "execution_count": 13,
   "metadata": {},
   "outputs": [
    {
     "data": {
      "image/png": "[encoded data removed]",
      "text/plain": [
       "<Figure size 864x230.4 with 3 Axes>"
      ]
     },
     "metadata": {
      "needs_background": "light"
     },
     "output_type": "display_data"
    }
   ],
   "source": [
    "import matplotlib.pyplot as plt\n",
    "%matplotlib inline\n",
    "\n",
    "id_img = 2\n",
    "myfil1 = np.array([[1, 1, 1], [1, 1, 1], [-2, -2, -2]], dtype=float) # (A)\n",
    "myfil2 = np.array([[-2, 1, 1], [-2, 1, 1], [-2, 1, 1]], dtype=float) # (B)\n",
    "\n",
    "x_img = x_train[id_img, :, :, 0]\n",
    "img_h = 28\n",
    "img_w = 28\n",
    "x_img = x_img.reshape(img_h, img_w)\n",
    "out_img1 = np.zeros_like(x_img)\n",
    "out_img2 = np.zeros_like(x_img)\n",
    "\n",
    "for ih in range(img_h - 3):\n",
    "    for iw in range(img_w - 3):\n",
    "        img_part = x_img[ih:ih + 3, iw:iw + 3]\n",
    "        out_img1[ih + 1, iw + 1] = \\\n",
    "            np.dot(img_part.reshape(-1), myfil1.reshape(-1))\n",
    "        out_img2[ih + 1, iw + 1] = \\\n",
    "            np.dot(img_part.reshape(-1), myfil2.reshape(-1))\n",
    "\n",
    "plt.figure(1, figsize=(12, 3.2))\n",
    "plt.subplots_adjust(wspace=0.5)\n",
    "plt.gray()\n",
    "plt.subplot(1, 3, 1)\n",
    "plt.pcolor(1 - x_img)\n",
    "plt.xlim(-1, 29)\n",
    "plt.ylim(29, -1)\n",
    "plt.subplot(1, 3, 2)\n",
    "plt.pcolor(-out_img1)\n",
    "plt.xlim(-1, 29)\n",
    "plt.ylim(29, -1)\n",
    "plt.subplot(1, 3, 3)\n",
    "plt.pcolor(-out_img2)\n",
    "plt.xlim(-1, 29)\n",
    "plt.ylim(29, -1)\n",
    "plt.show()"
   ]
  },
  {
   "cell_type": "code",
   "execution_count": 14,
   "metadata": {},
   "outputs": [
    {
     "name": "stdout",
     "output_type": "stream",
     "text": [
      "Train on 60000 samples, validate on 10000 samples\n",
      "Epoch 1/20\n",
      "60000/60000 [==============================] - 10s 163us/step - loss: 0.9090 - accuracy: 0.7889 - val_loss: 0.3637 - val_accuracy: 0.8994\n",
      "Epoch 2/20\n",
      "60000/60000 [==============================] - 9s 152us/step - loss: 0.3227 - accuracy: 0.9088 - val_loss: 0.2703 - val_accuracy: 0.9246\n",
      "Epoch 3/20\n",
      "60000/60000 [==============================] - 9s 153us/step - loss: 0.2550 - accuracy: 0.9284 - val_loss: 0.2228 - val_accuracy: 0.9362\n",
      "Epoch 4/20\n",
      "60000/60000 [==============================] - 9s 153us/step - loss: 0.2111 - accuracy: 0.9412 - val_loss: 0.1887 - val_accuracy: 0.9476\n",
      "Epoch 5/20\n",
      "60000/60000 [==============================] - 9s 152us/step - loss: 0.1765 - accuracy: 0.9509 - val_loss: 0.1631 - val_accuracy: 0.9553\n",
      "Epoch 6/20\n",
      "60000/60000 [==============================] - 9s 152us/step - loss: 0.1513 - accuracy: 0.9581 - val_loss: 0.1395 - val_accuracy: 0.9623\n",
      "Epoch 7/20\n",
      "60000/60000 [==============================] - 9s 153us/step - loss: 0.1316 - accuracy: 0.9641 - val_loss: 0.1234 - val_accuracy: 0.9663\n",
      "Epoch 8/20\n",
      "60000/60000 [==============================] - 9s 153us/step - loss: 0.1165 - accuracy: 0.9685 - val_loss: 0.1144 - val_accuracy: 0.9683\n",
      "Epoch 9/20\n",
      "60000/60000 [==============================] - 9s 157us/step - loss: 0.1051 - accuracy: 0.9712 - val_loss: 0.1040 - val_accuracy: 0.9700\n",
      "Epoch 10/20\n",
      "60000/60000 [==============================] - 9s 154us/step - loss: 0.0967 - accuracy: 0.9736 - val_loss: 0.0997 - val_accuracy: 0.9710\n",
      "Epoch 11/20\n",
      "60000/60000 [==============================] - 9s 153us/step - loss: 0.0888 - accuracy: 0.9759 - val_loss: 0.0916 - val_accuracy: 0.9724\n",
      "Epoch 12/20\n",
      "60000/60000 [==============================] - 9s 154us/step - loss: 0.0829 - accuracy: 0.9773 - val_loss: 0.0899 - val_accuracy: 0.9737\n",
      "Epoch 13/20\n",
      "60000/60000 [==============================] - 9s 155us/step - loss: 0.0784 - accuracy: 0.9787 - val_loss: 0.0842 - val_accuracy: 0.9746\n",
      "Epoch 14/20\n",
      "60000/60000 [==============================] - 9s 154us/step - loss: 0.0734 - accuracy: 0.9800 - val_loss: 0.0825 - val_accuracy: 0.9749\n",
      "Epoch 15/20\n",
      "60000/60000 [==============================] - 9s 155us/step - loss: 0.0698 - accuracy: 0.9810 - val_loss: 0.0811 - val_accuracy: 0.9751\n",
      "Epoch 16/20\n",
      "60000/60000 [==============================] - 9s 154us/step - loss: 0.0662 - accuracy: 0.9821 - val_loss: 0.0795 - val_accuracy: 0.9752\n",
      "Epoch 17/20\n",
      "60000/60000 [==============================] - 9s 153us/step - loss: 0.0637 - accuracy: 0.9826 - val_loss: 0.0761 - val_accuracy: 0.9756\n",
      "Epoch 18/20\n",
      "60000/60000 [==============================] - 9s 154us/step - loss: 0.0607 - accuracy: 0.9834 - val_loss: 0.0775 - val_accuracy: 0.9756\n",
      "Epoch 19/20\n",
      "60000/60000 [==============================] - 9s 154us/step - loss: 0.0580 - accuracy: 0.9844 - val_loss: 0.0732 - val_accuracy: 0.9767\n",
      "Epoch 20/20\n",
      "60000/60000 [==============================] - 9s 156us/step - loss: 0.0555 - accuracy: 0.9850 - val_loss: 0.0725 - val_accuracy: 0.9779\n",
      "Test loss: 0.07248813848644495\n",
      "Test accuracy: 0.9779000282287598\n",
      "Computation time:186.509 sec\n"
     ]
    }
   ],
   "source": [
    "import numpy as np\n",
    "np.random.seed(1)\n",
    "from keras.models import Sequential\n",
    "from keras.layers import Conv2D, MaxPooling2D\n",
    "from keras.layers import Activation, Dropout, Flatten, Dense\n",
    "from keras.optimizers import Adam\n",
    "import time\n",
    "\n",
    "model = Sequential()\n",
    "model.add(Conv2D(8, (3, 3), padding='same', input_shape=(28, 28, 1), activation='relu')) # (A)\n",
    "model.add(Flatten()) # (B)\n",
    "model.add(Dense(10, activation='softmax'))\n",
    "model.compile(loss='categorical_crossentropy', optimizer=Adam(), metrics=['accuracy'])\n",
    "startTime = time.time()\n",
    "history = model.fit(x_train, y_train, batch_size=1000, epochs=20, verbose=1, validation_data=(x_test, y_test))\n",
    "score = model.evaluate(x_test, y_test, verbose=0)\n",
    "print('Test loss:', score[0])\n",
    "print('Test accuracy:', score[1])\n",
    "print('Computation time:{0:.3f} sec'.format(time.time() - startTime))"
   ]
  },
  {
   "cell_type": "code",
   "execution_count": 2,
   "metadata": {},
   "outputs": [
    {
     "ename": "NameError",
     "evalue": "name 'model' is not defined",
     "output_type": "error",
     "traceback": [
      "\u001b[0;31m---------------------------------------------------------------------------\u001b[0m",
      "\u001b[0;31mNameError\u001b[0m                                 Traceback (most recent call last)",
      "\u001b[0;32m<ipython-input-2-2ecbf6a5b2a3>\u001b[0m in \u001b[0;36m<module>\u001b[0;34m\u001b[0m\n\u001b[0;32m----> 1\u001b[0;31m \u001b[0mshow_prediction\u001b[0m\u001b[0;34m(\u001b[0m\u001b[0;34m)\u001b[0m\u001b[0;34m\u001b[0m\u001b[0;34m\u001b[0m\u001b[0m\n\u001b[0m\u001b[1;32m      2\u001b[0m \u001b[0mplt\u001b[0m\u001b[0;34m.\u001b[0m\u001b[0mshow\u001b[0m\u001b[0;34m(\u001b[0m\u001b[0;34m)\u001b[0m\u001b[0;34m\u001b[0m\u001b[0;34m\u001b[0m\u001b[0m\n",
      "\u001b[0;32m<ipython-input-1-ff40be010d31>\u001b[0m in \u001b[0;36mshow_prediction\u001b[0;34m()\u001b[0m\n\u001b[1;32m      1\u001b[0m \u001b[0;32mdef\u001b[0m \u001b[0mshow_prediction\u001b[0m\u001b[0;34m(\u001b[0m\u001b[0;34m)\u001b[0m\u001b[0;34m:\u001b[0m\u001b[0;34m\u001b[0m\u001b[0;34m\u001b[0m\u001b[0m\n\u001b[1;32m      2\u001b[0m     \u001b[0mn_show\u001b[0m \u001b[0;34m=\u001b[0m \u001b[0;36m96\u001b[0m\u001b[0;34m\u001b[0m\u001b[0;34m\u001b[0m\u001b[0m\n\u001b[0;32m----> 3\u001b[0;31m     \u001b[0my\u001b[0m \u001b[0;34m=\u001b[0m \u001b[0mmodel\u001b[0m\u001b[0;34m.\u001b[0m\u001b[0mpredict\u001b[0m\u001b[0;34m(\u001b[0m\u001b[0mx_test\u001b[0m\u001b[0;34m)\u001b[0m \u001b[0;31m# (A)\u001b[0m\u001b[0;34m\u001b[0m\u001b[0;34m\u001b[0m\u001b[0m\n\u001b[0m\u001b[1;32m      4\u001b[0m     \u001b[0mplt\u001b[0m\u001b[0;34m.\u001b[0m\u001b[0mfigure\u001b[0m\u001b[0;34m(\u001b[0m\u001b[0;36m2\u001b[0m\u001b[0;34m,\u001b[0m \u001b[0mfigsize\u001b[0m\u001b[0;34m=\u001b[0m\u001b[0;34m(\u001b[0m\u001b[0;36m12\u001b[0m\u001b[0;34m,\u001b[0m \u001b[0;36m8\u001b[0m\u001b[0;34m)\u001b[0m\u001b[0;34m)\u001b[0m\u001b[0;34m\u001b[0m\u001b[0;34m\u001b[0m\u001b[0m\n\u001b[1;32m      5\u001b[0m     \u001b[0mplt\u001b[0m\u001b[0;34m.\u001b[0m\u001b[0mgray\u001b[0m\u001b[0;34m(\u001b[0m\u001b[0;34m)\u001b[0m\u001b[0;34m\u001b[0m\u001b[0;34m\u001b[0m\u001b[0m\n",
      "\u001b[0;31mNameError\u001b[0m: name 'model' is not defined"
     ]
    }
   ],
   "source": [
    "show_prediction()\n",
    "plt.show()"
   ]
  },
  {
   "cell_type": "code",
   "execution_count": null,
   "metadata": {},
   "outputs": [],
   "source": [
    "plt.figure(1, figsize=(12, 2.5))\n",
    "plt.gray()\n",
    "plt.subplots_adjust(wspace=0.2, hspace=0.2)\n",
    "plt.subplot(2, 9, 10)\n",
    "id_img = 12\n",
    "x_img = x_test[id_img, :, :, 0]\n",
    "img_h = 28\n",
    "img_w = 28\n",
    "x_img = x_img.reshape(img_h, img_w)\n",
    "plt.pcolor(-x_img)\n",
    "plt.xlim(0, img_h)\n",
    "plt.ylim(img_w, 0)\n",
    "plt.xticks([], \"\")\n",
    "plt.yticks([], \"\")\n",
    "plt.title(\"Original\")\n",
    "w = model.layers[0].get_weights()[0] # (A)\n",
    "max_w = np.max(w)\n",
    "min_w = np.min(w)\n",
    "for i in range(8):\n",
    "    plt.subplot(2, 9, i + 2)\n",
    "    w1 = w[:, :, 0, i]\n",
    "    w1 = w1.reshape(3, 3)\n",
    "    plt.pcolor(-w1, vmin=min_w, vmax=max_w)\n",
    "    plt.xlim(0, 3)\n",
    "    plt.ylim(3, 0)\n",
    "    plt.xticks([], \"\")\n",
    "    plt.yticks([], \"\")\n",
    "    plt.title(\"%d\" % i)\n",
    "    plt.subplot(2, 9, i + 11)\n",
    "    out_img = np.zeros_like(x_img)\n",
    "    # 필터 처리\n",
    "    for ih in range(img_h - 3):\n",
    "        for iw in range(img_w - 3):\n",
    "            img_part = x_img[ih:ih + 3, iw:iw + 3]\n",
    "            out_img[ih + 1, iw + 1] = \\\n",
    "            np.dot(img_part.reshape(-1), w1.reshape(-1))\n",
    "    plt.pcolor(-out_img)\n",
    "    plt.xlim(0, img_w)\n",
    "    plt.ylim(img_h, 0)\n",
    "    plt.xticks([], \"\")\n",
    "    plt.yticks([], \"\")\n",
    "plt.show()"
   ]
  },
  {
   "cell_type": "code",
   "execution_count": null,
   "metadata": {},
   "outputs": [],
   "source": [
    "import numpy as np\n",
    "np.random.seed(1)\n",
    "from keras.models import Sequential\n",
    "from keras.layers import Dense, Dropout, Flatten, Activation\n",
    "from keras.layers import Conv2D, MaxPooling2D\n",
    "from keras.optimizers import Adam\n",
    "import time\n",
    "\n",
    "model = Sequential()\n",
    "model.add(Conv2D(16, (3, 3), input_shape=(28, 28, 1), activation='relu'))\n",
    "model.add(Conv2D(32, (3, 3), activation='relu'))\n",
    "model.add(MaxPooling2D(pool_size=(2, 2))) # (A)\n",
    "model.add(Conv2D(64, (3, 3), activation='relu'))\n",
    "model.add(MaxPooling2D(pool_size=(2, 2))) # (B)\n",
    "model.add(Dropout(0.25)) # (C)\n",
    "model.add(Flatten())\n",
    "model.add(Dense(128, activation='relu'))\n",
    "model.add(Dropout(0.25)) # (D)\n",
    "model.add(Dense(num_classes, activation='softmax'))\n",
    "\n",
    "\n",
    "model.compile(loss='categorical_crossentropy', optimizer=Adam(), metrics=['accuracy'])\n",
    "\n",
    "\n",
    "startTime = time.time()\n",
    "history = model.fit(x_train, y_train, batch_size=1000, epochs=20, verbose=1, validation_data=(x_test, y_test))\n",
    "\n",
    "\n",
    "score = model.evaluate(x_test, y_test, verbose=0)\n",
    "print('Test loss:', score[0])\n",
    "print('Test accuracy:', score[1])\n",
    "print('Computation time:{0:.3f} sec'.format(time.time() - startTime))"
   ]
  },
  {
   "cell_type": "code",
   "execution_count": null,
   "metadata": {},
   "outputs": [],
   "source": [
    "show_prediction()\n",
    "plt.show()"
   ]
  },
  {
   "cell_type": "code",
   "execution_count": null,
   "metadata": {},
   "outputs": [],
   "source": [
    "import numpy as np\n",
    "import matplotlib.pyplot as plt\n",
    "%matplotlib inline\n",
    "\n",
    "# 데이터 생성 ------------------------------------------------\n",
    "np.random.seed(1)\n",
    "N = 100\n",
    "K = 3\n",
    "T3 = np.zeros((N, 3), dtype=np.uint8)\n",
    "X = np.zeros((N, 2))\n",
    "X_range0 = [-3, 3]\n",
    "X_range1 = [-3,3]\n",
    "X_col = ['cornflowerblue', 'black', 'white']\n",
    "Mu = np.array([[-.5, -.5], [.5, 1.0], [1, -.5]]) # 분포의 중심\n",
    "Sig = np.array([[.7, .7], [.8, .3], [.3, .8]]) # 분포의 분산\n",
    "Pi = np.array([0.4, 0.8, 1]) # 누적 확률\n",
    "for n in range(N):\n",
    "    wk = np.random.rand()\n",
    "    for k in range(K):\n",
    "        if wk < Pi[k]:\n",
    "            T3[n, k] = 1\n",
    "            break\n",
    "    for k in range(2):\n",
    "        X[n, k] = (np.random.randn() * Sig[T3[n, :] == 1, k] + Mu[T3[n, :] == 1, k])\n",
    "        \n",
    "# 데이터를 그리기 --------------------------------------\n",
    "def show_data(x):\n",
    "    plt.plot(x[:, 0], x[:, 1], linestyle='none', marker='o', markersize=6, markeredgecolor='black', color='gray', alpha=0.8)\n",
    "    plt.grid(True)\n",
    "    \n",
    "# 메인 ---------------------------------------------------------------\n",
    "\n",
    "plt.figure(1, figsize=(4, 4))\n",
    "show_data(X)\n",
    "plt.xlim(X_range0)\n",
    "plt.ylim(X_range1)\n",
    "plt.show()\n",
    "np.savez('data_ch9.npz', X=X, X_range0=X_range0, X_range1=X_range1)"
   ]
  },
  {
   "cell_type": "code",
   "execution_count": null,
   "metadata": {},
   "outputs": [],
   "source": [
    "# Mu 및 R 초기화 ------------------------------------------------------\n",
    "Mu = np.array([[-2, 1], [-2, 0], [-2, -1]]) # (A)\n",
    "R = np.c_[np.ones((N, 1), dtype=int), np.zeros((N, 2), dtype=int)] # (B)"
   ]
  },
  {
   "cell_type": "code",
   "execution_count": null,
   "metadata": {},
   "outputs": [],
   "source": [
    "# 데이터를 그리는 함수 -----------------------------------------------------------\n",
    "def show_prm(x, r, mu, col):\n",
    "    for k in range(K):\n",
    "        # 데이터 분포의 묘사\n",
    "        plt.plot(x[r[:, k] == 1, 0], x[r[:, k] == 1, 1], marker='o', markerfacecolor=X_col[k], markeredgecolor='k', markersize=6, alpha=0.5, linestyle='none')\n",
    "        # 데이터의 평균을 '별표'로 묘사\n",
    "        plt.plot(mu[k, 0], mu[k, 1], marker='*', markerfacecolor=X_col[k], markersize=15, markeredgecolor='k', markeredgewidth=1)\n",
    "    plt.xlim(X_range0)\n",
    "    plt.ylim(X_range1)\n",
    "    plt.grid(True)\n",
    "    \n",
    "# ---------------------------------------------------------------------\n",
    "plt.figure(figsize=(4, 4))\n",
    "R = np.c_[np.ones((N, 1)), np.zeros((N, 2))]\n",
    "show_prm(X, R, Mu, X_col)\n",
    "plt.title('initial Mu and R')\n",
    "plt.show"
   ]
  },
  {
   "cell_type": "code",
   "execution_count": null,
   "metadata": {},
   "outputs": [],
   "source": [
    "# r을 정한다 (Step 1) --------------------------\n",
    "def step1_kmeans(x0, x1, mu):\n",
    "    N = len(x0)\n",
    "    r = np.zeros((N, K))\n",
    "    for n in range(N):\n",
    "        wk = np.zeros(K)\n",
    "        for k in range(K):\n",
    "            wk[k] = (x0[n] - mu[k, 0]) **2 + (x1[n] - mu[k, 1]) **2\n",
    "        r[n, np.argmin(wk)] = 1\n",
    "    return r\n",
    "\n",
    "\n",
    "# ---------------------------------------------------------\n",
    "plt.figure(figsize=(4, 4))\n",
    "R = step1_kmeans(X[:, 0], X[:, 1], Mu)\n",
    "show_prm(X, R, Mu, X_col)\n",
    "plt. title('Step 1')\n",
    "plt.show()"
   ]
  },
  {
   "cell_type": "code",
   "execution_count": null,
   "metadata": {},
   "outputs": [],
   "source": [
    "# Mu 결정 (Step 2) --------------------------------------\n",
    "def step2_kmeans(x0, x1, r):\n",
    "    mu = np.zeros((K, 2))\n",
    "    for k in range(K):\n",
    "        mu[k, 0] = np.sum(r[:, k] * x0) / np.sum(r[:, k])\n",
    "        mu[k, 1] = np.sum(r[:, k] * x1) / np.sum(r[:, k])\n",
    "    return mu\n",
    "\n",
    "# -----------------------------------------------------------------------\n",
    "plt.figure(figsize=(4, 4))\n",
    "Mu = step2_kmeans(X[:, 0], X[:, 1], R)\n",
    "show_prm(X, R, Mu, X_col)\n",
    "plt.title('Step2')\n",
    "plt.show()"
   ]
  },
  {
   "cell_type": "code",
   "execution_count": null,
   "metadata": {},
   "outputs": [],
   "source": [
    "plt.figure(1, figsize=(10, 6.5))\n",
    "Mu = np.array([[-2, 1], [-2, 0], [-2, -1]])\n",
    "max_it = 6 # 반복 횟수\n",
    "for it in range(0, max_it):\n",
    "    plt.subplot(2, 3, it + 1)\n",
    "    R = step1_kmeans(X[:, 0], X[:, 1], Mu)\n",
    "    show_prm(X, R, Mu, X_col)\n",
    "    plt.title(\"{0:d}\".format(it + 1))\n",
    "    plt.xticks(range(X_range0[0], X_range0[1]), \"\")\n",
    "    plt.yticks(range(X_range1[0], X_range1[1]), \"\")\n",
    "    Mu = step2_kmeans(X[:, 0], X[:, 1], R)\n",
    "plt.show()"
   ]
  },
  {
   "cell_type": "code",
   "execution_count": null,
   "metadata": {},
   "outputs": [],
   "source": [
    "# 목적 함수 -------------------------------------------------------------------------------------\n",
    "def distortion_measure(x0, x1, r, mu):\n",
    "    #입력은 2차원으로 제한하고 있다\n",
    "    N = len(x0)\n",
    "    J = 0\n",
    "    for n in range(N):\n",
    "        for k in range(K):\n",
    "            J = J + r[n, k] * ((x0[n] - mu[k, 0])**2 + (x1[n] - mu[k, 1])**2)\n",
    "    return J\n",
    "\n",
    "# ------- test\n",
    "# ------- Mu와 R의 초기화\n",
    "Mu = np.array([[-2, 1], [-2, 0], [-2, -1]])\n",
    "R = np.c_[np.ones((N, 1), dtype=int), np.zeros((N, 2), dtype=int)]\n",
    "distortion_measure(X[:, 0], X[:, 1], R, Mu)"
   ]
  },
  {
   "cell_type": "code",
   "execution_count": null,
   "metadata": {},
   "outputs": [],
   "source": [
    "N = X.shape[0]\n",
    "K = 3\n",
    "Mu = np.array([[-2, 1], [-2, 0], [-2, -1]])\n",
    "R = np.c_[np.ones((N, 1), dtype=int), np.zeros((N, 2), dtype=int)]\n",
    "max_it = 10\n",
    "it = 0\n",
    "DM = np.zeros(max_it) # 왜곡 척도의 계산 결과를 넣는다\n",
    "for it in range(0, max_it): # K-means 기법\n",
    "    R = step1_kmeans(X[:, 0], X[:, 1], Mu)\n",
    "    DM[it] = distortion_measure(X[:, 0], X[:, 1], R, Mu) # 왜곡 척도\n",
    "    Mu = step2_kmeans(X[:, 0], X[:, 1], R)\n",
    "print(np.round(DM, 2))\n",
    "plt.figure(2, figsize=(4, 4))\n",
    "plt.plot(DM, color='black', linestyle='-', marker='o')\n",
    "plt.ylim(40, 80)\n",
    "plt.grid(True)\n",
    "plt.show()"
   ]
  },
  {
   "cell_type": "code",
   "execution_count": null,
   "metadata": {},
   "outputs": [],
   "source": [
    "%reset"
   ]
  },
  {
   "cell_type": "code",
   "execution_count": null,
   "metadata": {},
   "outputs": [],
   "source": [
    "import numpy as np\n",
    "wk = np.load('data_ch9.npz')\n",
    "X = wk['X']\n",
    "X_range0 = wk['X_range0']\n",
    "X_range1 = wk['X_range1']"
   ]
  },
  {
   "cell_type": "code",
   "execution_count": null,
   "metadata": {},
   "outputs": [],
   "source": [
    "# 가우스 함수 -------------------------------------------------\n",
    "def gauss(x, mu, sigma):\n",
    "    N, D = x.shape\n",
    "    c1 = 1 / (2 * np.pi) ** (D / 2)\n",
    "    c2 = 1 / (np.linalg.det(sigma) ** (1 / 2))\n",
    "    inv_sigma = np.linalg.inv(sigma)\n",
    "    c3 = x - mu\n",
    "    c4 = np.dot(c3, inv_sigma)\n",
    "    c5 = np.zeros(N)\n",
    "    for d in range(D):\n",
    "        c5 = c5 + c4[:, d] * c3[:, d]\n",
    "    p = c1 * c2 * np.exp(-c5 / 2)\n",
    "    return p"
   ]
  },
  {
   "cell_type": "code",
   "execution_count": null,
   "metadata": {},
   "outputs": [],
   "source": [
    "x = np.array([[1, 2], [2, 1], [3, 4]])\n",
    "mu = np.array([1, 2])\n",
    "sigma = np.array([[1, 0], [0, 1]])\n",
    "print(gauss(x, mu, sigma))"
   ]
  },
  {
   "cell_type": "code",
   "execution_count": null,
   "metadata": {},
   "outputs": [],
   "source": [
    "# 가우시안 혼합 모델 ---------------------------------------------\n",
    "def mixgauss(x, pi, mu, sigma):\n",
    "    N, D = x.shape\n",
    "    K = len(pi)\n",
    "    p = np.zeros(N)\n",
    "    for k in range(K):\n",
    "        p = p + pi[k] * gauss(x, mu[k, :], sigma[k, :, :])\n",
    "    return p"
   ]
  },
  {
   "cell_type": "code",
   "execution_count": null,
   "metadata": {},
   "outputs": [],
   "source": [
    "# test -----------------------------------------------------------\n",
    "x = np.array([[1, 2], [2, 2], [3, 4]])\n",
    "pi = np.array([0.3, 0.7])\n",
    "mu = np.array([[1, 1], [2, 2]])\n",
    "sigma = np.array([[[1, 0], [0, 1]], [[2, 0], [0, 1]]])\n",
    "print(mixgauss(x, pi, mu, sigma))"
   ]
  },
  {
   "cell_type": "code",
   "execution_count": null,
   "metadata": {},
   "outputs": [],
   "source": [
    "import matplotlib.pyplot as plt\n",
    "from mpl_toolkits.mplot3d import axes3d\n",
    "%matplotlib inline\n",
    "# 혼합 가우스 등고선 표시 -----------------------------------------------------\n",
    "def show_contour_mixgauss(pi, mu, sigma):\n",
    "    xn = 40 # 등고선 표시 해상도\n",
    "    x0 = np.linspace(X_range0[0], X_range0[1], xn)\n",
    "    x1 = np.linspace(X_range1[0], X_range1[1], xn)\n",
    "    xx0, xx1 = np.meshgrid(x0, x1)\n",
    "    x = np.c_[np.reshape(xx0, xn * xn, 1), np.reshape(xx1, xn * xn, 1)]\n",
    "    f = mixgauss(x, pi, mu, sigma)\n",
    "    f = f.reshape(xn, xn)\n",
    "    f = f.T\n",
    "    plt.contour(x0, x1, f, 10, colors='gray')\n",
    "    \n",
    "\n",
    "# 혼합 가우스 3D 표시 ------------------------------------------------------------\n",
    "def show3d_mixgauss(ax, pi, mu, sigma):\n",
    "    xn = 40 # 등고선 표시 해상도\n",
    "    x0 = np.linspace(X_range0[0], X_range0[1], xn)\n",
    "    x1 = np.linspace(X_range1[0], X_range1[1], xn)\n",
    "    xx0, xx1 = np.meshgrid(x0, x1)\n",
    "    x = np.c_[np.reshape(xx0, xn * xn, 1), np.reshape(xx1, xn * xn, 1)]\n",
    "    f = mixgauss(x, pi, mu, sigma)\n",
    "    f = f.reshape(xn, xn)\n",
    "    f = f.T\n",
    "    ax.plot_surface(xx0, xx1, f, rstride=2, cstride=2, alpha=0.3, color='blue', edgecolor='black')"
   ]
  },
  {
   "cell_type": "code",
   "execution_count": null,
   "metadata": {},
   "outputs": [],
   "source": [
    "# test -------------------------------------------------------------------\n",
    "pi = np.array([0.2, 0.4, 0.4])\n",
    "mu = np.array([[-2, -2], [-1, 1], [1.5, 1]])\n",
    "sigma = np.array([[[.5, 0], [0, .5]], [[1, 0.25], [0.25, .5]], [[.5, 0], [0, .5]]])\n",
    "\n",
    "\n",
    "Fig = plt.figure(1, figsize=(8, 3.5))\n",
    "Fig.add_subplot(1, 2, 1)\n",
    "show_contour_mixgauss(pi, mu, sigma)\n",
    "plt.grid(True)\n",
    "\n",
    "\n",
    "Ax = Fig.add_subplot(1, 2, 2, projection='3d')\n",
    "show3d_mixgauss(Ax, pi, mu, sigma)\n",
    "Ax.set_zticks([0.05, 0.10])\n",
    "Ax.set_xlabel('$x_0$', fontsize=14)\n",
    "Ax.set_ylabel('$x_1$', fontsize=14)\n",
    "Ax.view_init(40, -100)\n",
    "plt.xlim(X_range0)\n",
    "plt.ylim(X_range1)\n",
    "plt.show()"
   ]
  },
  {
   "cell_type": "code",
   "execution_count": null,
   "metadata": {},
   "outputs": [],
   "source": [
    "# 초기 설정 ----------------------------------------------------------------------\n",
    "N = X.shape[0]\n",
    "K = 3\n",
    "Pi = np.array([0.33, 0.33, 0.34])\n",
    "Mu = np.array([[-2, 1], [-2, 0], [-2, -1]])\n",
    "Sigma = np.array([[[1, 0], [0, 1]], [[1, 0], [0, 1]], [[1, 0], [0, 1]]])\n",
    "Gamma = np.c_[np.ones((N, 1)), np.zeros((N, 2))]\n",
    "\n",
    "\n",
    "X_col=np.array([[0.4, 0.6, 0.95], [1, 1, 1], [0, 0, 0]])\n",
    "\n",
    "\n",
    "# 데이터를 그리기 ----------------------------------------------------------\n",
    "def show_mixgauss_prm(x, gamma, pi, mu, sigma):\n",
    "    N, D = x.shape\n",
    "    show_contour_mixgauss(pi, mu, sigma)\n",
    "    for n in range(N):\n",
    "        col = gamma[n, 0] * X_col[0] + gamma[n, 1] * X_col[1] + gamma[n, 2] * X_col[2]\n",
    "        plt.plot(x[n, 0], x[n, 1], 'o', color=tuple(col), markeredgecolor='black', markersize=6, alpha = 0.5)\n",
    "    for k in range(K):\n",
    "        plt.plot(mu[k, 0], mu[k, 1], marker='*', markerfacecolor=tuple(X_col[k]), markersize=15, markeredgecolor='k', markeredgewidth=1)\n",
    "        \n",
    "    plt.grid(True)\n",
    "    \n",
    "    \n",
    "plt.figure(1, figsize=(4, 4))\n",
    "show_mixgauss_prm(X, Gamma, Pi, Mu, Sigma)\n",
    "plt.show()"
   ]
  },
  {
   "cell_type": "code",
   "execution_count": null,
   "metadata": {},
   "outputs": [],
   "source": [
    "# gamma를 갱신(E Step) -----------------------------------------------\n",
    "def e_step_mixgauss(x, pi, mu, sigma):\n",
    "    N, D = x.shape\n",
    "    K = len(pi)\n",
    "    y = np.zeros((N, K))\n",
    "    for k in range(K):\n",
    "        y[:, k] = gauss(x, mu[k, :], sigma[k, :, :]) #KxN\n",
    "    gamma = np.zeros((N, K))\n",
    "    for n in range(N):\n",
    "        wk = np.zeros(K)\n",
    "        for k in range(K):\n",
    "            wk[k] = pi[k] * y[n, k]\n",
    "        gamma[n, :] = wk / np.sum(wk)\n",
    "    return gamma\n",
    "\n",
    "\n",
    "# 메인 -----------------------------------------------------------------------------\n",
    "Gamma = e_step_mixgauss(X, Pi, Mu, Sigma)"
   ]
  },
  {
   "cell_type": "code",
   "execution_count": null,
   "metadata": {},
   "outputs": [],
   "source": [
    "# 표시 --------------------------------------------------------------------------------\n",
    "plt.figure(1, figsize=(4, 4))\n",
    "show_mixgauss_prm(X, Gamma, Pi, Mu, Sigma)\n",
    "plt.show()"
   ]
  },
  {
   "cell_type": "code",
   "execution_count": null,
   "metadata": {},
   "outputs": [],
   "source": [
    "# Pi, Mu, Sigma 갱신 (M step) --------------------\n",
    "def m_step_mixgauss(x, gamma):\n",
    "    N, D = x.shape\n",
    "    N, K = gamma.shape\n",
    "    # pi를 계산\n",
    "    pi = np.sum(gamma, axis=0) / N\n",
    "    # mu를 계산\n",
    "    mu = np.zeros((K, D))\n",
    "    for k in range(K):\n",
    "        for d in range(D):\n",
    "            mu[k, d] = np.dot(gamma[:, k], x[:, d]) / np.sum(gamma[:, k])\n",
    "    # sigma를 계산\n",
    "    sigma = np.zeros((K, D, D))\n",
    "    for k in range(K):\n",
    "        for n in range(N):\n",
    "            wk = x - mu[k, :]\n",
    "            wk = wk[n, :, np.newaxis]\n",
    "            sigma[k, :, :] = sigma[k, :, :] + gamma[n, k] * np.dot(wk, wk.T)\n",
    "        sigma[k, :, :] = sigma[k, :, :] / np.sum(gamma[:, k])\n",
    "    return pi, mu, sigma\n",
    "\n",
    "\n",
    "# 메인 -----------------------------------------------------------------------\n",
    "Pi, Mu, Sigma = m_step_mixgauss(X, Gamma)"
   ]
  },
  {
   "cell_type": "code",
   "execution_count": null,
   "metadata": {},
   "outputs": [],
   "source": [
    "# 표시 --------------------------------------------------------------------------------\n",
    "plt.figure(1, figsize=(4, 4))\n",
    "show_mixgauss_prm(X, Gamma, Pi, Mu, Sigma)\n",
    "plt.show()"
   ]
  },
  {
   "cell_type": "code",
   "execution_count": null,
   "metadata": {},
   "outputs": [],
   "source": [
    "Pi = np.array([0.3, 0.3, 0.4])\n",
    "Mu = np.array([[2, 2], [-2, 0], [2, -2]])\n",
    "Sigma = np.array([[[1, 0], [0, 1]], [[1, 0], [0, 1]], [[1, 0], [0, 1]]])\n",
    "Gamma = np.c_[np.ones((N, 1)), np.zeros((N, 2))]\n",
    "plt.figure(1, figsize=(10, 6.5))\n",
    "max_it = 20 # 반복 횟수\n",
    "\n",
    "\n",
    "i_subplot = 1;\n",
    "for it in range(0, max_it):\n",
    "    Gamma = e_step_mixgauss(X, Pi, Mu, Sigma)\n",
    "    if it<4 or it>17:\n",
    "        plt.subplot(2, 3, i_subplot)\n",
    "        show_mixgauss_prm(X, Gamma, Pi, Mu, Sigma)\n",
    "        plt.title(\"{0:d}\".format(it + 1))\n",
    "        plt.xticks(range(X_range0[0], X_range0[1]), \"\")\n",
    "        plt.yticks(range(X_range1[0], X_range1[1]), \"\")\n",
    "        i_subplot = i_subplot + 1\n",
    "    Pi, Mu, Sigma = m_step_mixgauss(X, Gamma)\n",
    "plt.show()"
   ]
  },
  {
   "cell_type": "code",
   "execution_count": null,
   "metadata": {},
   "outputs": [],
   "source": [
    "# 혼합 가우스의 목적 함수 -----------------------------------------------\n",
    "def nlh_mixgauss(x, pi, mu, sigma):\n",
    "    # x : NxD\n",
    "    # pi : Kx1\n",
    "    # mu : KxD\n",
    "    # sigma : KxDxD\n",
    "    # output lh : NxK\n",
    "    N, D = x.shape\n",
    "    K = len(pi)\n",
    "    y = np.zeros((N, K))\n",
    "    for k in range(K):\n",
    "        y[:, k] = gauss(x, mu[k, :], sigma[k, :, :]) #KxN\n",
    "    lh = 0\n",
    "    for n in range(N):\n",
    "        wk = 0\n",
    "        for k in range(K):\n",
    "            wk = wk + pi[k] * y[n, k]\n",
    "        lh = lh + np.log(wk)\n",
    "    return -lh"
   ]
  },
  {
   "cell_type": "code",
   "execution_count": null,
   "metadata": {},
   "outputs": [],
   "source": [
    "Pi = np.array([0.3, 0.3, 0.4])\n",
    "Mu = np.array([[2, 2], [-2, 0], [2, -2]])\n",
    "Sigma = np.array([[[1, 0], [0, 1]], [[1, 0], [0, 1]], [[1, 0], [0, 1]]])\n",
    "Gamma = np.c_[np.ones((N, 1)), np.zeros((N, 2))]\n",
    "\n",
    "\n",
    "max_it = 20\n",
    "it = 0\n",
    "Err = np.zeros(max_it) # distortion measure\n",
    "for it in range(0, max_it):\n",
    "    Gamma = e_step_mixgauss(X, Pi, Mu, Sigma)\n",
    "    Err[it] = nlh_mixgauss(X, Pi, Mu, Sigma)\n",
    "    Pi, Mu, Sigma = m_step_mixgauss(X, Gamma)\n",
    "print(np.round(Err, 2))\n",
    "plt.figure(2, figsize=(4, 4))\n",
    "plt.plot(np.arange(max_it) + 1, Err, color='k', linestyle='-', marker='o')\n",
    "# plt.ylim([40, 80])\n",
    "plt.grid(True)\n",
    "plt.show()"
   ]
  },
  {
   "cell_type": "code",
   "execution_count": null,
   "metadata": {},
   "outputs": [],
   "source": []
  }
 ],
 "metadata": {
  "kernelspec": {
   "display_name": "Python 3",
   "language": "python",
   "name": "python3"
  },
  "language_info": {
   "codemirror_mode": {
    "name": "ipython",
    "version": 3
   },
   "file_extension": ".py",
   "mimetype": "text/x-python",
   "name": "python",
   "nbconvert_exporter": "python",
   "pygments_lexer": "ipython3",
   "version": "3.8.2"
  }
 },
 "nbformat": 4,
 "nbformat_minor": 4
}
